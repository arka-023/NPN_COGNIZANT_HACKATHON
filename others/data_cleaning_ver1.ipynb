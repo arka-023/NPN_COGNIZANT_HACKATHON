{
 "cells": [
  {
   "cell_type": "markdown",
   "id": "354ea984",
   "metadata": {},
   "source": [
    "## Data Visualization"
   ]
  },
  {
   "cell_type": "code",
   "execution_count": 1,
   "id": "030c6230",
   "metadata": {},
   "outputs": [],
   "source": [
    "#import packages\n",
    "import pandas as pd"
   ]
  },
  {
   "cell_type": "code",
   "execution_count": 2,
   "id": "a586568d",
   "metadata": {},
   "outputs": [
    {
     "name": "stdout",
     "output_type": "stream",
     "text": [
      "File loaded successfully.\n",
      "Preview of the data:\n"
     ]
    },
    {
     "data": {
      "text/html": [
       "<div>\n",
       "<style scoped>\n",
       "    .dataframe tbody tr th:only-of-type {\n",
       "        vertical-align: middle;\n",
       "    }\n",
       "\n",
       "    .dataframe tbody tr th {\n",
       "        vertical-align: top;\n",
       "    }\n",
       "\n",
       "    .dataframe thead th {\n",
       "        text-align: right;\n",
       "    }\n",
       "</style>\n",
       "<table border=\"1\" class=\"dataframe\">\n",
       "  <thead>\n",
       "    <tr style=\"text-align: right;\">\n",
       "      <th></th>\n",
       "      <th>Description</th>\n",
       "      <th>Is_Response</th>\n",
       "    </tr>\n",
       "  </thead>\n",
       "  <tbody>\n",
       "    <tr>\n",
       "      <th>0</th>\n",
       "      <td>Booked at the Marrakech since it was the only ...</td>\n",
       "      <td>0</td>\n",
       "    </tr>\n",
       "    <tr>\n",
       "      <th>1</th>\n",
       "      <td>booking did not happen booked hotel trip advis...</td>\n",
       "      <td>0</td>\n",
       "    </tr>\n",
       "    <tr>\n",
       "      <th>2</th>\n",
       "      <td>My husband and I just left the Hilton Times Sq...</td>\n",
       "      <td>1</td>\n",
       "    </tr>\n",
       "    <tr>\n",
       "      <th>3</th>\n",
       "      <td>thank god beautiful beaches, husband traveled ...</td>\n",
       "      <td>0</td>\n",
       "    </tr>\n",
       "    <tr>\n",
       "      <th>4</th>\n",
       "      <td>My stay here was brief but service was excepti...</td>\n",
       "      <td>1</td>\n",
       "    </tr>\n",
       "  </tbody>\n",
       "</table>\n",
       "</div>"
      ],
      "text/plain": [
       "                                         Description  Is_Response\n",
       "0  Booked at the Marrakech since it was the only ...            0\n",
       "1  booking did not happen booked hotel trip advis...            0\n",
       "2  My husband and I just left the Hilton Times Sq...            1\n",
       "3  thank god beautiful beaches, husband traveled ...            0\n",
       "4  My stay here was brief but service was excepti...            1"
      ]
     },
     "execution_count": 2,
     "metadata": {},
     "output_type": "execute_result"
    }
   ],
   "source": [
    "df = pd.read_csv('data/new_data.csv')\n",
    "print(\"File loaded successfully.\")\n",
    "print(\"Preview of the data:\")\n",
    "df.head()"
   ]
  },
  {
   "cell_type": "code",
   "execution_count": 3,
   "id": "9f8372e5",
   "metadata": {},
   "outputs": [
    {
     "name": "stdout",
     "output_type": "stream",
     "text": [
      "Dataset Info:\n",
      "<class 'pandas.core.frame.DataFrame'>\n",
      "RangeIndex: 32250 entries, 0 to 32249\n",
      "Data columns (total 2 columns):\n",
      " #   Column       Non-Null Count  Dtype \n",
      "---  ------       --------------  ----- \n",
      " 0   Description  32250 non-null  object\n",
      " 1   Is_Response  32250 non-null  int64 \n",
      "dtypes: int64(1), object(1)\n",
      "memory usage: 504.0+ KB\n",
      "None\n"
     ]
    }
   ],
   "source": [
    "print('Dataset Info:')\n",
    "print(df.info())"
   ]
  },
  {
   "cell_type": "code",
   "execution_count": 4,
   "id": "d15eaa62",
   "metadata": {},
   "outputs": [
    {
     "name": "stdout",
     "output_type": "stream",
     "text": [
      "Distribution of sentiments (happy vs. not happy, 1 v/s 0):\n",
      "Is_Response\n",
      "1    16625\n",
      "0    15625\n",
      "Name: count, dtype: int64\n",
      "\n",
      "==================================================\n",
      "\n"
     ]
    }
   ],
   "source": [
    "# checking the distribution of the 'Is_Response' column\n",
    "print(\"Distribution of sentiments (happy vs. not happy, 1 v/s 0):\")\n",
    "print(df['Is_Response'].value_counts())\n",
    "print(\"\\n\" + \"=\"*50 + \"\\n\")"
   ]
  },
  {
   "cell_type": "code",
   "execution_count": 5,
   "id": "50836ae4",
   "metadata": {},
   "outputs": [
    {
     "name": "stdout",
     "output_type": "stream",
     "text": [
      "Checking for missing values in each column:\n",
      "Description    0\n",
      "Is_Response    0\n",
      "dtype: int64\n"
     ]
    }
   ],
   "source": [
    "# missing values\n",
    "print(\"Checking for missing values in each column:\")\n",
    "print(df.isnull().sum())"
   ]
  },
  {
   "cell_type": "code",
   "execution_count": 6,
   "id": "b8d03ed3",
   "metadata": {},
   "outputs": [
    {
     "data": {
      "text/html": [
       "<div>\n",
       "<style scoped>\n",
       "    .dataframe tbody tr th:only-of-type {\n",
       "        vertical-align: middle;\n",
       "    }\n",
       "\n",
       "    .dataframe tbody tr th {\n",
       "        vertical-align: top;\n",
       "    }\n",
       "\n",
       "    .dataframe thead th {\n",
       "        text-align: right;\n",
       "    }\n",
       "</style>\n",
       "<table border=\"1\" class=\"dataframe\">\n",
       "  <thead>\n",
       "    <tr style=\"text-align: right;\">\n",
       "      <th></th>\n",
       "      <th>Is_Response</th>\n",
       "      <th>word_count</th>\n",
       "      <th>char_count</th>\n",
       "    </tr>\n",
       "  </thead>\n",
       "  <tbody>\n",
       "    <tr>\n",
       "      <th>0</th>\n",
       "      <td>0</td>\n",
       "      <td>175.751552</td>\n",
       "      <td>997.579584</td>\n",
       "    </tr>\n",
       "    <tr>\n",
       "      <th>1</th>\n",
       "      <td>1</td>\n",
       "      <td>121.330707</td>\n",
       "      <td>720.532391</td>\n",
       "    </tr>\n",
       "  </tbody>\n",
       "</table>\n",
       "</div>"
      ],
      "text/plain": [
       "   Is_Response  word_count  char_count\n",
       "0            0  175.751552  997.579584\n",
       "1            1  121.330707  720.532391"
      ]
     },
     "execution_count": 6,
     "metadata": {},
     "output_type": "execute_result"
    }
   ],
   "source": [
    "# Add word count and character count columns\n",
    "df[\"word_count\"] = df[\"Description\"].apply(lambda x: len(str(x).split()))\n",
    "df[\"char_count\"] = df[\"Description\"].apply(lambda x: len(str(x)))\n",
    "\n",
    "# Group by class and calculate averages\n",
    "eda_summary = df.groupby(\"Is_Response\")[[\"word_count\", \"char_count\"]].mean().reset_index()\n",
    "eda_summary"
   ]
  },
  {
   "cell_type": "code",
   "execution_count": 9,
   "id": "712fa305",
   "metadata": {},
   "outputs": [],
   "source": [
    "# Calculate mean, mode, min, and max for word_count and char_count per class\n",
    "eda_detailed = df.groupby(\"Is_Response\").agg({\n",
    "    \"word_count\": [\"mean\", lambda x: x.mode().iloc[0] if not x.mode().empty else None, \"min\", \"max\"],\n",
    "    \"char_count\": [\"mean\", lambda x: x.mode().iloc[0] if not x.mode().empty else None, \"min\", \"max\"]\n",
    "})\n",
    "\n",
    "# Rename columns for clarity\n",
    "eda_detailed.columns = [\"_\".join([col[0], col[1] if isinstance(col[1], str) else \"mode\"]) \n",
    "                        for col in eda_detailed.columns]\n",
    "eda_detailed = eda_detailed.reset_index()"
   ]
  },
  {
   "cell_type": "code",
   "execution_count": 10,
   "id": "cfa3a000",
   "metadata": {},
   "outputs": [
    {
     "data": {
      "text/html": [
       "<div>\n",
       "<style scoped>\n",
       "    .dataframe tbody tr th:only-of-type {\n",
       "        vertical-align: middle;\n",
       "    }\n",
       "\n",
       "    .dataframe tbody tr th {\n",
       "        vertical-align: top;\n",
       "    }\n",
       "\n",
       "    .dataframe thead th {\n",
       "        text-align: right;\n",
       "    }\n",
       "</style>\n",
       "<table border=\"1\" class=\"dataframe\">\n",
       "  <thead>\n",
       "    <tr style=\"text-align: right;\">\n",
       "      <th></th>\n",
       "      <th>Is_Response</th>\n",
       "      <th>word_count_mean</th>\n",
       "      <th>word_count_&lt;lambda_0&gt;</th>\n",
       "      <th>word_count_min</th>\n",
       "      <th>word_count_max</th>\n",
       "      <th>char_count_mean</th>\n",
       "      <th>char_count_&lt;lambda_0&gt;</th>\n",
       "      <th>char_count_min</th>\n",
       "      <th>char_count_max</th>\n",
       "    </tr>\n",
       "  </thead>\n",
       "  <tbody>\n",
       "    <tr>\n",
       "      <th>0</th>\n",
       "      <td>0</td>\n",
       "      <td>175.751552</td>\n",
       "      <td>84</td>\n",
       "      <td>5</td>\n",
       "      <td>2289</td>\n",
       "      <td>997.579584</td>\n",
       "      <td>514</td>\n",
       "      <td>30</td>\n",
       "      <td>14340</td>\n",
       "    </tr>\n",
       "    <tr>\n",
       "      <th>1</th>\n",
       "      <td>1</td>\n",
       "      <td>121.330707</td>\n",
       "      <td>40</td>\n",
       "      <td>5</td>\n",
       "      <td>1780</td>\n",
       "      <td>720.532391</td>\n",
       "      <td>216</td>\n",
       "      <td>28</td>\n",
       "      <td>12738</td>\n",
       "    </tr>\n",
       "  </tbody>\n",
       "</table>\n",
       "</div>"
      ],
      "text/plain": [
       "   Is_Response  word_count_mean  word_count_<lambda_0>  word_count_min  \\\n",
       "0            0       175.751552                     84               5   \n",
       "1            1       121.330707                     40               5   \n",
       "\n",
       "   word_count_max  char_count_mean  char_count_<lambda_0>  char_count_min  \\\n",
       "0            2289       997.579584                    514              30   \n",
       "1            1780       720.532391                    216              28   \n",
       "\n",
       "   char_count_max  \n",
       "0           14340  \n",
       "1           12738  "
      ]
     },
     "execution_count": 10,
     "metadata": {},
     "output_type": "execute_result"
    }
   ],
   "source": [
    "eda_detailed"
   ]
  },
  {
   "cell_type": "markdown",
   "id": "6bdf0d7d",
   "metadata": {},
   "source": [
    "## Data Preprocessing"
   ]
  },
  {
   "cell_type": "code",
   "execution_count": 8,
   "id": "b9eda5c1",
   "metadata": {},
   "outputs": [],
   "source": [
    "#impoting nltk libraries for preprocessing\n",
    "import re\n",
    "import nltk\n",
    "from nltk.corpus import stopwords\n",
    "from nltk.stem import WordNetLemmatizer\n",
    "from nltk.tokenize import word_tokenize"
   ]
  },
  {
   "cell_type": "code",
   "execution_count": 9,
   "id": "f01b8fcb",
   "metadata": {},
   "outputs": [],
   "source": [
    "# an workaround for ssl certificate verification\n",
    "import ssl\n",
    "try:\n",
    "    _create_unverified_https_context = ssl._create_unverified_context\n",
    "except AttributeError:\n",
    "    pass\n",
    "else:\n",
    "    ssl._create_default_https_context = _create_unverified_https_context"
   ]
  },
  {
   "cell_type": "code",
   "execution_count": 10,
   "id": "1dec857f",
   "metadata": {},
   "outputs": [
    {
     "name": "stderr",
     "output_type": "stream",
     "text": [
      "[nltk_data] Downloading package wordnet to /Users/shirsa/nltk_data...\n",
      "[nltk_data]   Package wordnet is already up-to-date!\n"
     ]
    }
   ],
   "source": [
    "#downloading necessary nltk data files\n",
    "try:\n",
    "    stopwords.words('english')\n",
    "except LookupError:\n",
    "    nltk.download('stopwords')\n",
    "try:\n",
    "    nltk.data.find('tokenizers/punkt')\n",
    "except LookupError:\n",
    "    nltk.download('punkt')\n",
    "try:\n",
    "    nltk.data.find('corpora/wordnet')\n",
    "except LookupError:\n",
    "    nltk.download('wordnet')"
   ]
  },
  {
   "cell_type": "code",
   "execution_count": 11,
   "id": "90d60deb",
   "metadata": {},
   "outputs": [
    {
     "name": "stderr",
     "output_type": "stream",
     "text": [
      "[nltk_data] Downloading package punkt_tab to\n",
      "[nltk_data]     /Users/shirsa/nltk_data...\n",
      "[nltk_data]   Package punkt_tab is already up-to-date!\n"
     ]
    },
    {
     "data": {
      "text/plain": [
       "True"
      ]
     },
     "execution_count": 11,
     "metadata": {},
     "output_type": "execute_result"
    }
   ],
   "source": [
    "nltk.data.path #check path of nltk data\n",
    "nltk.download('punkt_tab') # punkt tokenizer model"
   ]
  },
  {
   "cell_type": "code",
   "execution_count": 13,
   "id": "4e07fda7",
   "metadata": {},
   "outputs": [],
   "source": [
    "# Loading the dataset again here\n",
    "df = pd.read_csv('data/new_data.csv')\n",
    "\n",
    "# Initializing the lemmatizer and stop words\n",
    "lemmatizer = WordNetLemmatizer()\n",
    "stop_words = set(stopwords.words('english'))\n"
   ]
  },
  {
   "cell_type": "code",
   "execution_count": 14,
   "id": "4b13825d",
   "metadata": {},
   "outputs": [],
   "source": [
    "def preprocess_text(text):\n",
    "    \"\"\"\n",
    "    Cleans and preprocesses a single piece of text.\n",
    "    \"\"\"\n",
    "    # 1. Lowercase and remove non-alphabetic characters\n",
    "    text = re.sub(r'[^a-zA-Z\\s]', '', text, re.I|re.A)\n",
    "    text = text.lower()\n",
    "    \n",
    "    # 2. Tokenize\n",
    "    tokens = word_tokenize(text)\n",
    "    \n",
    "    # 3. Lemmatize and remove stop words\n",
    "    processed_tokens = [lemmatizer.lemmatize(word) for word in tokens if word not in stop_words and len(word) > 1]\n",
    "    \n",
    "    return \" \".join(processed_tokens)"
   ]
  },
  {
   "cell_type": "code",
   "execution_count": 15,
   "id": "677b2e1e",
   "metadata": {},
   "outputs": [
    {
     "name": "stdout",
     "output_type": "stream",
     "text": [
      "\n",
      "Preprocessing on the 'Description' column...\n",
      "Preprocessing complete.\n"
     ]
    }
   ],
   "source": [
    "print(\"\\nPreprocessing on the 'Description' column...\")\n",
    "# Applying the function to the desired 'Description' column.\n",
    "df['Cleaned_Description'] = df['Description'].apply(preprocess_text) #creating a new column for comparison\n",
    "print(\"Preprocessing complete.\")"
   ]
  },
  {
   "cell_type": "code",
   "execution_count": 16,
   "id": "6cdf3ca9",
   "metadata": {},
   "outputs": [
    {
     "name": "stdout",
     "output_type": "stream",
     "text": [
      "\n",
      "Original vs. cleaned reviews:\n"
     ]
    },
    {
     "data": {
      "text/html": [
       "<div>\n",
       "<style scoped>\n",
       "    .dataframe tbody tr th:only-of-type {\n",
       "        vertical-align: middle;\n",
       "    }\n",
       "\n",
       "    .dataframe tbody tr th {\n",
       "        vertical-align: top;\n",
       "    }\n",
       "\n",
       "    .dataframe thead th {\n",
       "        text-align: right;\n",
       "    }\n",
       "</style>\n",
       "<table border=\"1\" class=\"dataframe\">\n",
       "  <thead>\n",
       "    <tr style=\"text-align: right;\">\n",
       "      <th></th>\n",
       "      <th>Description</th>\n",
       "      <th>Cleaned_Description</th>\n",
       "    </tr>\n",
       "  </thead>\n",
       "  <tbody>\n",
       "    <tr>\n",
       "      <th>0</th>\n",
       "      <td>Booked at the Marrakech since it was the only ...</td>\n",
       "      <td>booked marrakech since hotel could find night ...</td>\n",
       "    </tr>\n",
       "    <tr>\n",
       "      <th>1</th>\n",
       "      <td>booking did not happen booked hotel trip advis...</td>\n",
       "      <td>booking happen booked hotel trip advisor sugge...</td>\n",
       "    </tr>\n",
       "    <tr>\n",
       "      <th>2</th>\n",
       "      <td>My husband and I just left the Hilton Times Sq...</td>\n",
       "      <td>husband left hilton time square fabulous stay ...</td>\n",
       "    </tr>\n",
       "    <tr>\n",
       "      <th>3</th>\n",
       "      <td>thank god beautiful beaches, husband traveled ...</td>\n",
       "      <td>thank god beautiful beach husband traveled dom...</td>\n",
       "    </tr>\n",
       "    <tr>\n",
       "      <th>4</th>\n",
       "      <td>My stay here was brief but service was excepti...</td>\n",
       "      <td>stay brief service exceptional left clothes re...</td>\n",
       "    </tr>\n",
       "  </tbody>\n",
       "</table>\n",
       "</div>"
      ],
      "text/plain": [
       "                                         Description  \\\n",
       "0  Booked at the Marrakech since it was the only ...   \n",
       "1  booking did not happen booked hotel trip advis...   \n",
       "2  My husband and I just left the Hilton Times Sq...   \n",
       "3  thank god beautiful beaches, husband traveled ...   \n",
       "4  My stay here was brief but service was excepti...   \n",
       "\n",
       "                                 Cleaned_Description  \n",
       "0  booked marrakech since hotel could find night ...  \n",
       "1  booking happen booked hotel trip advisor sugge...  \n",
       "2  husband left hilton time square fabulous stay ...  \n",
       "3  thank god beautiful beach husband traveled dom...  \n",
       "4  stay brief service exceptional left clothes re...  "
      ]
     },
     "execution_count": 16,
     "metadata": {},
     "output_type": "execute_result"
    }
   ],
   "source": [
    "# Display the comparison\n",
    "print(\"\\nOriginal vs. cleaned reviews:\")\n",
    "df[['Description', 'Cleaned_Description']].head()"
   ]
  },
  {
   "cell_type": "code",
   "execution_count": 17,
   "id": "d9deb194",
   "metadata": {},
   "outputs": [
    {
     "name": "stdout",
     "output_type": "stream",
     "text": [
      "\n",
      "Successfully saved the fully preprocessed data to 'data/third_hotel_reviews.csv'\n"
     ]
    }
   ],
   "source": [
    "# Saving preprocessed data\n",
    "processed_file_path = 'data/third_hotel_reviews.csv'\n",
    "df.to_csv(processed_file_path, index=False)\n",
    "\n",
    "print(f\"\\nSuccessfully saved the fully preprocessed data to '{processed_file_path}'\")"
   ]
  }
 ],
 "metadata": {
  "kernelspec": {
   "display_name": "Python 3",
   "language": "python",
   "name": "python3"
  },
  "language_info": {
   "codemirror_mode": {
    "name": "ipython",
    "version": 3
   },
   "file_extension": ".py",
   "mimetype": "text/x-python",
   "name": "python",
   "nbconvert_exporter": "python",
   "pygments_lexer": "ipython3",
   "version": "3.11.5"
  }
 },
 "nbformat": 4,
 "nbformat_minor": 5
}
